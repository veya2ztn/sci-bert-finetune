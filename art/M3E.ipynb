{
 "cells": [
  {
   "cell_type": "code",
   "execution_count": null,
   "id": "95738f26",
   "metadata": {},
   "outputs": [],
   "source": [
    "import os\n",
    "os.environ[\"CUDA_VISIBLE_DEVICES\"] = \"7\""
   ]
  },
  {
   "cell_type": "code",
   "execution_count": 1,
   "id": "0f3d4b5f",
   "metadata": {},
   "outputs": [],
   "source": [
    "import pandas as pd\n",
    "import h5py\n",
    "\n",
    "rawdata = pd.read_csv(\"data/unarXive.clear/query.question.results.good_questions.csv\")\n",
    "\n",
    "sectionsf = h5py.File('data/unarXive.clear/unarXive.clear.sections.h5', 'r')\n",
    "\n",
    "from torch.utils.data import Dataset\n",
    "from uniem.data_structures import RecordType, PairRecord, TripletRecord, ScoredPairRecord\n",
    "class UnarXive_Question_Sentense_Dataset(Dataset):\n",
    "    def __init__(self, rawdata):\n",
    "        self.rawdata      = rawdata\n",
    "    \n",
    "    def __getitem__(self, idx):\n",
    "        paper_id, sentense_id , question = rawdata.iloc[32][['paper_id','sentense_id','question']]\n",
    "        evidence = sectionsf.get(f'{paper_id}/{sentense_id}')[()].decode('utf-8')\n",
    "        return dict(text=question, text_pos=evidence)\n",
    "\n",
    "dataset = UnarXive_Question_Sentense_Dataset(rawdata)\n",
    "\n",
    "\n",
    "\n",
    "from uniem.finetuner import FineTuner\n",
    "# 指定训练的模型为 m3e-small\n",
    "finetuner = FineTuner.from_pretrained('/home/zhangtianning/.cache/torch/sentence_transformers/moka-ai_m3e-base', dataset=dataset)\n",
    "fintuned_model = finetuner.run(epochs=30, output_dir='finetuned-model-riddle',batch_size=30)"
   ]
  }
 ],
 "metadata": {
  "kernelspec": {
   "display_name": "uniem",
   "language": "python",
   "name": "uniemv"
  },
  "language_info": {
   "codemirror_mode": {
    "name": "ipython",
    "version": 3
   },
   "file_extension": ".py",
   "mimetype": "text/x-python",
   "name": "python",
   "nbconvert_exporter": "python",
   "pygments_lexer": "ipython3",
   "version": "3.10.12"
  }
 },
 "nbformat": 4,
 "nbformat_minor": 5
}

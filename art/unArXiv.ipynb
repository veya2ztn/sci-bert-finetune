{
 "cells": [
  {
   "cell_type": "markdown",
   "id": "c29c2b5d",
   "metadata": {},
   "source": [
    "# ALL arXiV data"
   ]
  },
  {
   "cell_type": "code",
   "execution_count": 1,
   "id": "850827d4",
   "metadata": {},
   "outputs": [],
   "source": [
    "import pandas as pd"
   ]
  },
  {
   "cell_type": "code",
   "execution_count": 8,
   "id": "f892e1b0",
   "metadata": {},
   "outputs": [],
   "source": [
    "import pandas as pd\n",
    "eval_data = pd.read_csv(\"data/eval/RMP12.csv\", delimiter='\\t')"
   ]
  },
  {
   "cell_type": "code",
   "execution_count": 1,
   "id": "c260b57e",
   "metadata": {
    "scrolled": true
   },
   "outputs": [],
   "source": [
    "import arxiv\n",
    "\n",
    "search = arxiv.Search(\n",
    "  query = \"10.1098/rspa.1927.0039\",\n",
    "  max_results = 10,\n",
    "  sort_by = arxiv.SortCriterion.SubmittedDate\n",
    ")\n",
    "\n",
    "for result in search.results():print(result.title)"
   ]
  },
  {
   "cell_type": "code",
   "execution_count": 6,
   "id": "c40525c5",
   "metadata": {},
   "outputs": [],
   "source": [
    "import requests\n",
    "import json\n",
    "\n",
    "# Your DOI goes here\n",
    "doi = \"10.1098/rspa.1927.0039\"\n",
    "def query_where_arxiv(doi):\n",
    "    # Query the Crossref API\n",
    "    response = requests.get(f\"https://api.crossref.org/works/{doi}\")\n",
    "\n",
    "    # Parse the response\n",
    "    data = response.json()\n",
    "\n",
    "    # Look for an arXiv link\n",
    "    arxiv_link = None\n",
    "    for link in data['message'].get('link', []):\n",
    "        if 'arxiv' in link['URL']:\n",
    "            arxiv_link = link['URL']\n",
    "            break\n",
    "\n",
    "    # Print the result\n",
    "    if arxiv_link is not None:\n",
    "        print(f\"ArXiv version found: {arxiv_link}\")\n",
    "    else:\n",
    "        print(\"No arXiv version found.\")"
   ]
  },
  {
   "cell_type": "code",
   "execution_count": null,
   "id": "5998ebc8",
   "metadata": {},
   "outputs": [],
   "source": [
    "'10.48550/arXiv.0808.0794'"
   ]
  },
  {
   "cell_type": "code",
   "execution_count": 13,
   "id": "c4f0c26a",
   "metadata": {},
   "outputs": [
    {
     "data": {
      "text/plain": [
       "array(['10.48550/arXiv.0808.0794', '10.1103/PhysRevLett.96.020501',\n",
       "       '10.1103/PhysRevA.71.042323',\n",
       "       '10.1103/PhysRevLett.99.250504 10.1103/PhysRevLett.99.250505',\n",
       "       '10.1103/PhysRevLett.99.250503', '10.1103/PhysRevLett.94.040504',\n",
       "       '10.1103/PhysRevLett.94.040504', '10.1038/35059017',\n",
       "       '10.1088/1367-2630/9/6/201', '10.1103/PhysRevLett.91.187903',\n",
       "       '10.1038/nature09148', '10.1038/nature04446',\n",
       "       '10.1103/PhysRevA.67.030101', '10.1103/PhysRevA.77.062316',\n",
       "       '10.1103/PhysRevLett.95.010501', '10.1103/PhysRevLett.95.010501',\n",
       "       '10.1103/PhysRevLett.93.040503',\n",
       "       '10.1103/PhysRevLett.93.040503 10.1103/PhysRevLett.95.010501',\n",
       "       '10.1103/PhysRevLett.95.080503 10.1103/PhysRevA.73.012303',\n",
       "       '10.1103/PhysRevLett.86.910 10.1103/PhysRevLett.86.5188 10.1103/PhysRevA.68.022312',\n",
       "       '10.1103/PhysRevLett.95.010501', '10.1103/PhysRevLett.95.010501',\n",
       "       '10.1103/PhysRevLett.86.910',\n",
       "       '10.1103/PhysRevLett.86.5188 10.1103/PhysRevA.68.022312 10.1038/nphys1157',\n",
       "       '10.1103/PhysRevLett.95.030502', '10.1103/PhysRevLett.95.030502',\n",
       "       '10.1103/PhysRevA.63.030301 10.1103/PhysRevA.64.062311',\n",
       "       '10.1038/ncomms1570', '10.1063/1.3497087',\n",
       "       '10.1126/science.1155441', '10.1038/nature02054',\n",
       "       '10.1103/PhysRevA.63.030301', '10.1038/35051009',\n",
       "       '10.1038/35051009 10.1103/PhysRevA.63.030301',\n",
       "       '10.1103/PhysRevA.65.022314 10.1103/PhysRevA.65.022314',\n",
       "       '10.1103/PhysRevA.65.022314 10.1103/PhysRevA.65.022314',\n",
       "       '10.1103/PhysRevA.76.022329',\n",
       "       '10.1103/PhysRevLett.78.3221 10.1103/PhysRevLett.78.4293',\n",
       "       '10.1038/nature07241', '10.1103/PhysRevLett.98.113602',\n",
       "       '10.1038/nature06670',\n",
       "       '10.1103/PhysRevLett.97.013601 10.1364/OE.14.006912 10.1103/PhysRevLett.97.173004',\n",
       "       '10.1103/PhysRevA.76.022329', '10.1038/nature04327',\n",
       "       '10.1103/RevModPhys.77.513',\n",
       "       '10.1103/PhysRevLett.86.783 10.1038/35054017', '10.1038/35106500',\n",
       "       '10.1038/35106500', '10.1038/35106500',\n",
       "       '10.1103/PhysRevLett.81.5932 10.1103/PhysRevA.59.169',\n",
       "       '10.1103/RevModPhys.83.33',\n",
       "       '10.1103/PhysRevLett.81.5932 10.1103/PhysRevA.59.169',\n",
       "       '10.1103/PhysRevLett.81.5932 10.1103/PhysRevA.59.169',\n",
       "       '10.1103/PhysRevLett.81.5932 10.1103/PhysRevA.59.169',\n",
       "       '10.1038/nphys629', '10.1103/PhysRevLett.98.010504',\n",
       "       '10.1126/science.1085593',\n",
       "       '10.1038/nphoton.2007.75 10.1364/OE.15.007853 10.1364/OE.15.013957',\n",
       "       '10.1038/nature03347', '10.1038/nature01623',\n",
       "       '10.1103/PhysRevA.64.014301 10.1103/PhysRevA.64.012304',\n",
       "       '10.1103/PhysRevA.54.3824', '10.1103/PhysRevLett.90.067901',\n",
       "       '10.1038/35074041 10.1038/nature01623',\n",
       "       '10.1103/PhysRevLett.81.5932 10.1103/PhysRevA.59.169',\n",
       "       '10.1038/35074041 10.1038/nature01623',\n",
       "       '10.1103/PhysRevLett.81.5932',\n",
       "       '10.1111/j.1749-6632.1995.tb38959.x',\n",
       "       '10.1103/PhysRevLett.95.240406 10.1103/PhysRevLett.96.240502 10.1103/PhysRevA.79.040302',\n",
       "       '10.1111/j.1749-6632.1995.tb38959.x', '10.1038/srep03583',\n",
       "       '10.1080/09500340008244032 10.1103/PhysRevLett.88.017903',\n",
       "       '10.1103/PhysRevLett.88.017903', '10.1103/PhysRevLett.80.3891',\n",
       "       '10.1103/PhysRevA.57.822',\n",
       "       '10.1103/PhysRevLett.81.5932 10.1103/PhysRevA.59.169',\n",
       "       '10.1103/PhysRevLett.71.4287', '10.1038/nphys417',\n",
       "       '10.1038/nature02643', '10.1038/nature02643',\n",
       "       '10.1038/nature01376 10.1038/nphys629',\n",
       "       '10.1038/23891 10.1038/nature02570 10.1038/nature02608',\n",
       "       '10.1126/science.282.5389.706 10.1103/RevModPhys.77.513',\n",
       "       '10.1103/PhysRevLett.74.2619',\n",
       "       '10.1016/0375-9601(91)90566-Q 10.1103/PhysRevLett.84.5457',\n",
       "       '10.1038/37539', '10.1038/37539', '10.1038/nature01623',\n",
       "       '10.1038/nature01623',\n",
       "       '10.1038/nature04446 10.1103/PhysRevLett.96.130501',\n",
       "       '10.1103/PhysRevLett.80.869', '10.1103/PhysRevLett.74.1259',\n",
       "       '10.1103/PhysRevLett.70.1895',\n",
       "       '10.1103/PhysRevLett.71.4287 10.1103/PhysRevA.57.822',\n",
       "       '10.1103/PhysRevLett.70.1895', '10.1103/PhysRevLett.70.1895',\n",
       "       '10.1038/299802a0', '10.1103/PhysRevLett.76.4656',\n",
       "       '10.1103/PhysRevLett.76.4656', '10.1103/PhysRevLett.76.4656',\n",
       "       '10.1103/PhysRevLett.70.1895', '10.1103/PhysRevLett.70.1895',\n",
       "       '10.1103/PhysRevLett.70.1895', '10.1038/nphys919',\n",
       "       '10.1103/PhysRevA.58.R2623 10.1103/PhysRevA.68.042313',\n",
       "       '10.1103/PhysRevLett.96.190501',\n",
       "       '10.1103/PhysRevA.59.116 10.1103/PhysRevA.59.3295',\n",
       "       '10.1103/PhysRevLett.69.2881',\n",
       "       'Bennett C.H.Wiesner S.J.(1992), Phys.Rev.Lett., 69:2881-2884',\n",
       "       '10.1103/PhysRevLett.81.5932', '10.1103/PhysRevLett.103.160405',\n",
       "       '10.1103/PhysRevLett.101.210401', '10.1038/nature05677',\n",
       "       '10.1007/s10773-009-0131-x',\n",
       "       '10.1103/PhysRevLett.99.210406 10.1038/nphys1020',\n",
       "       '10.1007/s10773-009-0131-x', '10.1007/s10773-009-0131-x',\n",
       "       '10.1103/PhysRevLett.80.1121',\n",
       "       '10.1016/0375-9601(95)00486-M 10.1103/PhysRevA.65.012301',\n",
       "       '10.1103/PhysRevLett.71.1665',\n",
       "       '10.1103/PhysRevLett.95.240406 10.1103/PhysRevLett.95.240405',\n",
       "       '10.1103/PhysRevA.47.78',\n",
       "       '10.1016/0375-9601(91)90051-9 10.1103/PhysRevLett.84.5457',\n",
       "       '10.1038/35000514',\n",
       "       '10.1016/0375-9601(93)90228-R 10.1103/PhysRevLett.67.2761 10.1016/0375-9601(93)90002-H 10.1016/S0375-9601%2898%2900516-7',\n",
       "       '10.1103/PhysRevLett.65.1838',\n",
       "       '10.1103/PhysRevLett.86.3658 10.1103/PhysRevLett.88.210401',\n",
       "       '10.1103/PhysRevLett.65.1838 10.1103/PhysRevA.46.5375 10.1070/PU1993v036n08ABEH002299',\n",
       "       '10.48550/arXiv.0712.0921', '10.48550/arXiv.0712.0921',\n",
       "       '10.48550/arXiv.0712.0921', '10.48550/arXiv.0712.0921',\n",
       "       '10.1103/PhysRevA.63.022111 10.1103/PhysRevLett.88.120404 10.1103/PhysRevA.67.042115',\n",
       "       '10.1103/PhysRevLett.81.3563', '10.1038/nphys629',\n",
       "       '10.1103/PhysRevLett.94.150501', '10.1103/PhysRevLett.100.150404',\n",
       "       '10.1038/35057215', '10.1103/PhysRevLett.81.5039',\n",
       "       '10.1016/0375-9601(96)00123-5', '10.1103/PhysRevA.47.R747',\n",
       "       '10.1103/PhysRevD.35.3831', '10.1016/0375-9601(92)90915-G',\n",
       "       '10.1007/BF00417500 10.1007/BF00732549',\n",
       "       '10.1103/PhysRevLett.23.880', '10.1103/PhysRevA.64.010102',\n",
       "       '10.1103/PhysRevA.64.010102', '10.1103/PhysRevA.64.010102',\n",
       "       '10.1103/PhysRevA.64.010102', '10.1103/PhysRevA.64.010102',\n",
       "       '10.1103/PhysRevA.64.010102', '10.1103/PhysRevA.64.010102',\n",
       "       '10.1103/PhysRevA.64.010102', '10.1103/PhysRevA.64.010102',\n",
       "       '10.1103/PhysRevA.72.022340',\n",
       "       '10.1016/0375-9601(96)00639-1 10.1016/S0375-9601(00)00401-1 10.1103/PhysRevA.62.052310 10.1080/09500340110105975',\n",
       "       '10.1103/PhysRevA.64.052312',\n",
       "       '10.1103/PhysRevLett.101.010503 10.1038/nphys1150',\n",
       "       '10.1103/PhysRevLett.98.063604 10.1103/PhysRevLett.98.063604 10.1103/PhysRevLett.103.020503',\n",
       "       '10.1103/PhysRevLett.103.150501', '10.1103/PhysRevLett.92.077901',\n",
       "       '10.1038/nphys1603', '10.1038/nphys507 10.1038/nphoton.2011.354',\n",
       "       '10.1038/35074041 10.1038/nature02643',\n",
       "       '10.1103/PhysRevLett.91.180401', '10.1038/35074041',\n",
       "       '10.1103/PhysRevA.61.022109', '10.1103/PhysRevLett.82.1345',\n",
       "       '10.1103/PhysRevLett.78.3031', '10.1103/PhysRevLett.78.3031',\n",
       "       '10.1103/PhysRevA.54.1793', '10.1103/PhysRevLett.78.3031',\n",
       "       '10.1103/PhysRevLett.78.3031', '10.1103/PhysRevLett.78.3031',\n",
       "       '10.1103/PhysRevLett.78.3031', '10.1103/PhysRevLett.86.1370',\n",
       "       '10.1364/OE.17.004670', '10.1103/PhysRevA.64.063815',\n",
       "       '10.1103/PhysRevA.63.060301', '10.1103/PhysRevLett.71.4287',\n",
       "       '10.48550/arXiv.0808.0794', '10.1088/0953-4075/42/11/114004',\n",
       "       '10.1023/A:1026622332641', '10.1023/A:1026622332641',\n",
       "       '10.1023/A:1026622332641', '10.1023/A:1026622332641',\n",
       "       '10.1023/A:1026622332641', '10.1023/A:1026622332641',\n",
       "       '10.1103/PhysRevLett.74.4835',\n",
       "       '10.1038/nature02493 10.1038/nature02552', '10.1038/429139a',\n",
       "       '10.1103/PhysRevLett.93.193901', '10.1103/PhysRevLett.85.5013',\n",
       "       '10.1103/PhysRevLett.88.030401', '10.1103/PhysRevLett.91.053601',\n",
       "       '10.1103/PhysRevLett.91.053601', '10.1103/PhysRevLett.91.053601',\n",
       "       '10.1103/PhysRevLett.85.5013 10.1103/PhysRevLett.91.053601',\n",
       "       '10.1103/PhysRevLett.70.1244', '10.1103/PhysRevA.68.050301',\n",
       "       '10.1103/PhysRevA.73.050302', '10.1103/PhysRevLett.95.260501',\n",
       "       '10.1103/PhysRevLett.95.260501', '10.1103/PhysRevLett.95.260501',\n",
       "       '10.1103/PhysRevLett.64.2495',\n",
       "       '10.1111/j.1749-6632.1986.tb12449.x', '10.1103/RevModPhys.74.145',\n",
       "       '10.1103/RevModPhys.74.145', '10.1103/RevModPhys.74.145',\n",
       "       '10.1103/RevModPhys.74.145',\n",
       "       '10.1103/PhysRevLett.69.1294 10.1103/PhysRevA.47.R2472',\n",
       "       '10.1103/PhysRevA.73.012316', '10.1103/PhysRevA.73.012316',\n",
       "       '10.1103/PhysRevLett.62.2205', '10.1103/PhysRevA.50.5122',\n",
       "       '10.1103/PhysRevLett.75.4337', '10.1103/PhysRevLett.75.4337',\n",
       "       '10.1103/PhysRevLett.62.2209 10.1103/PhysRevLett.64.2495',\n",
       "       '10.1103/PhysRevLett.61.2921 10.1103/PhysRevLett.59.2044',\n",
       "       '10.1103/PhysRevLett.25.84', ' 10.1103/PhysRevLett.75.4337',\n",
       "       ' 10.1088/0034-4885/41/12/002 10.1103/PhysRevLett.66.1388 10.1103/PhysRevA.46.3646',\n",
       "       'Schuck C.Kurtsiefer C.and Weinfurter H.(2006), Phys.Rev.Lett. 96:190501',\n",
       "       '10.1103/PhysRevA.58.R2623 10.1103/PhysRevA.68.042313',\n",
       "       '10.1209/0295-5075/25/8/001 10.1103/PhysRevA.51.R1727',\n",
       "       '10.1103/PhysRevA.57.2208', '10.1103/PhysRevLett.77.1917',\n",
       "       '10.1103/PhysRevLett.77.1917',\n",
       "       '10.1038/nature06118 10.1038/nature07241',\n",
       "       '10.1016/0375-9601(93)90002-H', '10.1103/PhysRevLett.96.240502',\n",
       "       '10.1103/PhysRevLett.61.2921', '10.1103/PhysRevLett.61.2921',\n",
       "       '10.1103/PhysRevLett.59.2044', '10.1103/PhysRevLett.59.2044',\n",
       "       '10.1103/PhysRevLett.59.2044', '10.1103/PhysRevLett.59.2044',\n",
       "       '10.1103/PhysRevLett.59.2044', '10.1103/PhysRevLett.59.2044',\n",
       "       '10.1103/PhysRevLett.59.2044', '10.1103/PhysRevLett.59.2044',\n",
       "       '10.1103/PhysRevLett.59.2044', '10.1103/PhysRevLett.59.2044',\n",
       "       '10.1103/PhysRevLett.59.2044', '10.1103/PhysRevLett.59.2044',\n",
       "       '10.1103/PhysRevLett.81.5039', '10.1103/PhysRevLett.73.58',\n",
       "       '10.1103/PhysRevLett.73.58',\n",
       "       '10.1103/PhysRevA.57.2208 10.1038/35074041',\n",
       "       '10.1103/PhysRevA.57.2208 10.1038/35074041',\n",
       "       '10.1103/PhysRevA.63.032303', '10.1119/1.12387',\n",
       "       '10.1103/PhysRevA.39.1665', '10.1119/1.12387', '10.1038/35085529',\n",
       "       '10.1364/OL.20.001062 10.1016/S0030-4018(96)00436-1',\n",
       "       '10.1103/RevModPhys.74.145', '10.1103/RevModPhys.74.145',\n",
       "       '10.1103/RevModPhys.74.145', '10.1103/RevModPhys.74.145',\n",
       "       '10.1103/RevModPhys.74.145', '10.1103/RevModPhys.74.145',\n",
       "       '10.1103/RevModPhys.74.145', '10.1103/RevModPhys.74.145',\n",
       "       '10.1017/CBO9781139644105', '10.1017/CBO9780511813993',\n",
       "       '10.1007/978-3-540-28574-8', '10.1103/PhysRevLett.73.58',\n",
       "       '10.1119/1.16243', '10.1119/1.16243', '10.1119/1.16243',\n",
       "       '10.1119/1.16243', '10.1119/1.16243',\n",
       "       '10.48550/arXiv.0712.0921 10.1119/1.16243 10.1063/1.2810588',\n",
       "       '10.1103/PhysRevLett.64.2495', '10.1103/PhysRevLett.80.5239',\n",
       "       '10.1103/PhysRevLett.77.1413 10.1016/S0375-9601(96)00706-2',\n",
       "       '10.1103/PhysRevLett.77.1413 10.1016/S0375-9601(96)00706-2',\n",
       "       '10.1016/S0375-9601(96)00706-2', '10.1103/PhysRevA.40.4277',\n",
       "       '10.1063/1.1319516', '10.1088/0034-4885/41/12/002',\n",
       "       '10.1017/S0305004100013554',\n",
       "       '10.1038/nature03347 10.1103/PhysRevLett.95.210505 10.1038/nphys507',\n",
       "       '10.1103/PhysRevLett.86.5188 10.1103/PhysRevLett.86.910 10.1103/PhysRevLett.95.010501',\n",
       "       '10.1103/PhysRevLett.70.1895', '10.1016/0375-9601(93)90002-H',\n",
       "       '10.1103/PhysRevLett.75.4337', '10.1103/PhysRevLett.25.84',\n",
       "       '10.1063/1.2810588', '10.48550/arXiv.0712.0921',\n",
       "       '10.1088/0034-4885/41/12/002', '10.1103/PhysRevLett.28.938',\n",
       "       '10.1103/PhysicsPhysiqueFizika.1.195', '10.1103/PhysRev.47.777',\n",
       "       '10.1103/PhysRevLett.57.2520', '10.1103/PhysRevLett.55.2409',\n",
       "       '10.1103/PhysRevLett.58.203', '10.1088/0022-3700/9/4/001',\n",
       "       '10.1038/1781447a0', '10.1209/0295-5075/1/4/004',\n",
       "       '10.1098/rspa.1927.0039'], dtype=object)"
      ]
     },
     "execution_count": 13,
     "metadata": {},
     "output_type": "execute_result"
    }
   ],
   "source": [
    "eval_data['DOI'].values[::-1]"
   ]
  },
  {
   "cell_type": "code",
   "execution_count": 12,
   "id": "9dc92df8",
   "metadata": {},
   "outputs": [
    {
     "ename": "JSONDecodeError",
     "evalue": "Expecting value: line 1 column 1 (char 0)",
     "output_type": "error",
     "traceback": [
      "\u001b[0;31m---------------------------------------------------------------------------\u001b[0m",
      "\u001b[0;31mJSONDecodeError\u001b[0m                           Traceback (most recent call last)",
      "File \u001b[0;32m~/.conda/envs/uniem/lib/python3.10/site-packages/requests/models.py:971\u001b[0m, in \u001b[0;36mResponse.json\u001b[0;34m(self, **kwargs)\u001b[0m\n\u001b[1;32m    970\u001b[0m \u001b[38;5;28;01mtry\u001b[39;00m:\n\u001b[0;32m--> 971\u001b[0m     \u001b[38;5;28;01mreturn\u001b[39;00m \u001b[43mcomplexjson\u001b[49m\u001b[38;5;241;43m.\u001b[39;49m\u001b[43mloads\u001b[49m\u001b[43m(\u001b[49m\u001b[38;5;28;43mself\u001b[39;49m\u001b[38;5;241;43m.\u001b[39;49m\u001b[43mtext\u001b[49m\u001b[43m,\u001b[49m\u001b[43m \u001b[49m\u001b[38;5;241;43m*\u001b[39;49m\u001b[38;5;241;43m*\u001b[39;49m\u001b[43mkwargs\u001b[49m\u001b[43m)\u001b[49m\n\u001b[1;32m    972\u001b[0m \u001b[38;5;28;01mexcept\u001b[39;00m JSONDecodeError \u001b[38;5;28;01mas\u001b[39;00m e:\n\u001b[1;32m    973\u001b[0m     \u001b[38;5;66;03m# Catch JSON-related errors and raise as requests.JSONDecodeError\u001b[39;00m\n\u001b[1;32m    974\u001b[0m     \u001b[38;5;66;03m# This aliases json.JSONDecodeError and simplejson.JSONDecodeError\u001b[39;00m\n",
      "File \u001b[0;32m~/.conda/envs/uniem/lib/python3.10/json/__init__.py:346\u001b[0m, in \u001b[0;36mloads\u001b[0;34m(s, cls, object_hook, parse_float, parse_int, parse_constant, object_pairs_hook, **kw)\u001b[0m\n\u001b[1;32m    343\u001b[0m \u001b[38;5;28;01mif\u001b[39;00m (\u001b[38;5;28mcls\u001b[39m \u001b[38;5;129;01mis\u001b[39;00m \u001b[38;5;28;01mNone\u001b[39;00m \u001b[38;5;129;01mand\u001b[39;00m object_hook \u001b[38;5;129;01mis\u001b[39;00m \u001b[38;5;28;01mNone\u001b[39;00m \u001b[38;5;129;01mand\u001b[39;00m\n\u001b[1;32m    344\u001b[0m         parse_int \u001b[38;5;129;01mis\u001b[39;00m \u001b[38;5;28;01mNone\u001b[39;00m \u001b[38;5;129;01mand\u001b[39;00m parse_float \u001b[38;5;129;01mis\u001b[39;00m \u001b[38;5;28;01mNone\u001b[39;00m \u001b[38;5;129;01mand\u001b[39;00m\n\u001b[1;32m    345\u001b[0m         parse_constant \u001b[38;5;129;01mis\u001b[39;00m \u001b[38;5;28;01mNone\u001b[39;00m \u001b[38;5;129;01mand\u001b[39;00m object_pairs_hook \u001b[38;5;129;01mis\u001b[39;00m \u001b[38;5;28;01mNone\u001b[39;00m \u001b[38;5;129;01mand\u001b[39;00m \u001b[38;5;129;01mnot\u001b[39;00m kw):\n\u001b[0;32m--> 346\u001b[0m     \u001b[38;5;28;01mreturn\u001b[39;00m \u001b[43m_default_decoder\u001b[49m\u001b[38;5;241;43m.\u001b[39;49m\u001b[43mdecode\u001b[49m\u001b[43m(\u001b[49m\u001b[43ms\u001b[49m\u001b[43m)\u001b[49m\n\u001b[1;32m    347\u001b[0m \u001b[38;5;28;01mif\u001b[39;00m \u001b[38;5;28mcls\u001b[39m \u001b[38;5;129;01mis\u001b[39;00m \u001b[38;5;28;01mNone\u001b[39;00m:\n",
      "File \u001b[0;32m~/.conda/envs/uniem/lib/python3.10/json/decoder.py:337\u001b[0m, in \u001b[0;36mJSONDecoder.decode\u001b[0;34m(self, s, _w)\u001b[0m\n\u001b[1;32m    333\u001b[0m \u001b[38;5;250m\u001b[39m\u001b[38;5;124;03m\"\"\"Return the Python representation of ``s`` (a ``str`` instance\u001b[39;00m\n\u001b[1;32m    334\u001b[0m \u001b[38;5;124;03mcontaining a JSON document).\u001b[39;00m\n\u001b[1;32m    335\u001b[0m \n\u001b[1;32m    336\u001b[0m \u001b[38;5;124;03m\"\"\"\u001b[39;00m\n\u001b[0;32m--> 337\u001b[0m obj, end \u001b[38;5;241m=\u001b[39m \u001b[38;5;28;43mself\u001b[39;49m\u001b[38;5;241;43m.\u001b[39;49m\u001b[43mraw_decode\u001b[49m\u001b[43m(\u001b[49m\u001b[43ms\u001b[49m\u001b[43m,\u001b[49m\u001b[43m \u001b[49m\u001b[43midx\u001b[49m\u001b[38;5;241;43m=\u001b[39;49m\u001b[43m_w\u001b[49m\u001b[43m(\u001b[49m\u001b[43ms\u001b[49m\u001b[43m,\u001b[49m\u001b[43m \u001b[49m\u001b[38;5;241;43m0\u001b[39;49m\u001b[43m)\u001b[49m\u001b[38;5;241;43m.\u001b[39;49m\u001b[43mend\u001b[49m\u001b[43m(\u001b[49m\u001b[43m)\u001b[49m\u001b[43m)\u001b[49m\n\u001b[1;32m    338\u001b[0m end \u001b[38;5;241m=\u001b[39m _w(s, end)\u001b[38;5;241m.\u001b[39mend()\n",
      "File \u001b[0;32m~/.conda/envs/uniem/lib/python3.10/json/decoder.py:355\u001b[0m, in \u001b[0;36mJSONDecoder.raw_decode\u001b[0;34m(self, s, idx)\u001b[0m\n\u001b[1;32m    354\u001b[0m \u001b[38;5;28;01mexcept\u001b[39;00m \u001b[38;5;167;01mStopIteration\u001b[39;00m \u001b[38;5;28;01mas\u001b[39;00m err:\n\u001b[0;32m--> 355\u001b[0m     \u001b[38;5;28;01mraise\u001b[39;00m JSONDecodeError(\u001b[38;5;124m\"\u001b[39m\u001b[38;5;124mExpecting value\u001b[39m\u001b[38;5;124m\"\u001b[39m, s, err\u001b[38;5;241m.\u001b[39mvalue) \u001b[38;5;28;01mfrom\u001b[39;00m \u001b[38;5;28;01mNone\u001b[39;00m\n\u001b[1;32m    356\u001b[0m \u001b[38;5;28;01mreturn\u001b[39;00m obj, end\n",
      "\u001b[0;31mJSONDecodeError\u001b[0m: Expecting value: line 1 column 1 (char 0)",
      "\nDuring handling of the above exception, another exception occurred:\n",
      "\u001b[0;31mJSONDecodeError\u001b[0m                           Traceback (most recent call last)",
      "Cell \u001b[0;32mIn[12], line 2\u001b[0m\n\u001b[1;32m      1\u001b[0m \u001b[38;5;28;01mfor\u001b[39;00m doi \u001b[38;5;129;01min\u001b[39;00m eval_data[\u001b[38;5;124m'\u001b[39m\u001b[38;5;124mDOI\u001b[39m\u001b[38;5;124m'\u001b[39m]\u001b[38;5;241m.\u001b[39mvalues[::\u001b[38;5;241m-\u001b[39m\u001b[38;5;241m1\u001b[39m]:\n\u001b[0;32m----> 2\u001b[0m     \u001b[43mquery_where_arxiv\u001b[49m\u001b[43m(\u001b[49m\u001b[43mdoi\u001b[49m\u001b[43m)\u001b[49m\n",
      "Cell \u001b[0;32mIn[6], line 11\u001b[0m, in \u001b[0;36mquery_where_arxiv\u001b[0;34m(doi)\u001b[0m\n\u001b[1;32m      8\u001b[0m response \u001b[38;5;241m=\u001b[39m requests\u001b[38;5;241m.\u001b[39mget(\u001b[38;5;124mf\u001b[39m\u001b[38;5;124m\"\u001b[39m\u001b[38;5;124mhttps://api.crossref.org/works/\u001b[39m\u001b[38;5;132;01m{\u001b[39;00mdoi\u001b[38;5;132;01m}\u001b[39;00m\u001b[38;5;124m\"\u001b[39m)\n\u001b[1;32m     10\u001b[0m \u001b[38;5;66;03m# Parse the response\u001b[39;00m\n\u001b[0;32m---> 11\u001b[0m data \u001b[38;5;241m=\u001b[39m \u001b[43mresponse\u001b[49m\u001b[38;5;241;43m.\u001b[39;49m\u001b[43mjson\u001b[49m\u001b[43m(\u001b[49m\u001b[43m)\u001b[49m\n\u001b[1;32m     13\u001b[0m \u001b[38;5;66;03m# Look for an arXiv link\u001b[39;00m\n\u001b[1;32m     14\u001b[0m arxiv_link \u001b[38;5;241m=\u001b[39m \u001b[38;5;28;01mNone\u001b[39;00m\n",
      "File \u001b[0;32m~/.conda/envs/uniem/lib/python3.10/site-packages/requests/models.py:975\u001b[0m, in \u001b[0;36mResponse.json\u001b[0;34m(self, **kwargs)\u001b[0m\n\u001b[1;32m    971\u001b[0m     \u001b[38;5;28;01mreturn\u001b[39;00m complexjson\u001b[38;5;241m.\u001b[39mloads(\u001b[38;5;28mself\u001b[39m\u001b[38;5;241m.\u001b[39mtext, \u001b[38;5;241m*\u001b[39m\u001b[38;5;241m*\u001b[39mkwargs)\n\u001b[1;32m    972\u001b[0m \u001b[38;5;28;01mexcept\u001b[39;00m JSONDecodeError \u001b[38;5;28;01mas\u001b[39;00m e:\n\u001b[1;32m    973\u001b[0m     \u001b[38;5;66;03m# Catch JSON-related errors and raise as requests.JSONDecodeError\u001b[39;00m\n\u001b[1;32m    974\u001b[0m     \u001b[38;5;66;03m# This aliases json.JSONDecodeError and simplejson.JSONDecodeError\u001b[39;00m\n\u001b[0;32m--> 975\u001b[0m     \u001b[38;5;28;01mraise\u001b[39;00m RequestsJSONDecodeError(e\u001b[38;5;241m.\u001b[39mmsg, e\u001b[38;5;241m.\u001b[39mdoc, e\u001b[38;5;241m.\u001b[39mpos)\n",
      "\u001b[0;31mJSONDecodeError\u001b[0m: Expecting value: line 1 column 1 (char 0)"
     ]
    }
   ],
   "source": [
    "for doi in eval_data['DOI'].values[::-1]:\n",
    "    query_where_arxiv(doi)"
   ]
  },
  {
   "cell_type": "markdown",
   "id": "6afd890a",
   "metadata": {},
   "source": [
    "### evidence generate"
   ]
  },
  {
   "cell_type": "code",
   "execution_count": 3,
   "id": "743d99f5",
   "metadata": {},
   "outputs": [],
   "source": [
    "with open(\"data/unarXive_path_list.json\",'r') as f:file_list = json.load(f)"
   ]
  },
  {
   "cell_type": "code",
   "execution_count": 4,
   "id": "b778047f",
   "metadata": {},
   "outputs": [],
   "source": [
    "rawdata = read_jsonl(file_list[0])[0]"
   ]
  },
  {
   "cell_type": "code",
   "execution_count": null,
   "id": "bf3a29f0",
   "metadata": {},
   "outputs": [],
   "source": []
  },
  {
   "cell_type": "code",
   "execution_count": 5,
   "id": "db30ed85",
   "metadata": {},
   "outputs": [
    {
     "data": {
      "text/plain": [
       "\"  A detailed treatment of the classical Chapman-Enskog derivation of hydrodynamics is given in the framework of Grad's moment equations. Grad's systems are considered as the minimal kinetic models where the Chapman-Enskog method can be studied exactly, thereby providing the basis to compare various approximations in extending the hydrodynamic description beyond the Navier-Stokes approximation. Various techniques, such as the method of partial summation, Pade approximants, and invariance principle are compared both in linear and nonlinear situations. \""
      ]
     },
     "execution_count": 5,
     "metadata": {},
     "output_type": "execute_result"
    }
   ],
   "source": [
    "rawdata['abstract']['text'].replace(\"\\n\",\" \")"
   ]
  },
  {
   "cell_type": "code",
   "execution_count": 16,
   "id": "71454072",
   "metadata": {
    "scrolled": false
   },
   "outputs": [
    {
     "data": {
      "text/plain": [
       "\"Grad's equations (REF ) and () is the simplest model of a coupling of the hydrodynamic variables, {{formula:b28cfbff-eaca-4974-82f9-369d7afb719c}} , {{formula:4b1cddf8-278c-4846-9e84-afd1b18bcd5e}}  and {{formula:45bf044d-7557-426a-ace1-2c39f0683670}} , to the non-hydrodynamic variables {{formula:2ee4fb41-bc2a-4df6-ba7b-4b18d5031c03}}  and {{formula:83cd4b70-bbe3-4f7d-a5f2-ce8dae9b1cac}} . The problem of reduced description is to close the first three equations (REF ), and to get an autonomous system for the hydrodynamic variables alone. In other words, the non-hydrodynamic variables {{formula:f735ff90-7f1c-4cc3-aae1-8785a0fb2296}}  and {{formula:57bb3036-9cc8-429d-808b-1bd42f4528bd}}  should be expressed in terms of the variables {{formula:faa1b641-b255-43a1-8952-bfdc73edb810}} , {{formula:482e48af-6502-468c-96dc-61a9f9e590da}}  and {{formula:a4410aff-5ec1-4c8f-96a1-8ccc702b66b3}} . The Chapman-Enskog method, as applied for this purpose to Grad's system (REF ) and (), involves the following steps: \""
      ]
     },
     "execution_count": 16,
     "metadata": {},
     "output_type": "execute_result"
    }
   ],
   "source": [
    "rawdata['body_text'][16]['text'].replace(\"\\n\",\" \")"
   ]
  },
  {
   "cell_type": "code",
   "execution_count": 11,
   "id": "919a290b",
   "metadata": {},
   "outputs": [
    {
     "data": {
      "text/plain": [
       "'where {{formula:59dd9dcb-b9a8-473f-aea1-ca45d943d16d}}  are recurrently defined Chapman-Enskog operators. They act on functions {{formula:e57351b5-92c1-4b28-8228-856d96b44921}} , {{formula:9f84dbd7-020a-4a64-9c99-dfeb7c570f30}}  and {{formula:6860466b-8eb5-4690-ae1c-0be4487fd96a}} , and on their spatial derivatives, according to the following rule: {{formula:cc90abf5-f8f2-4505-a8ff-26d25e0dffd5}}  '"
      ]
     },
     "execution_count": 11,
     "metadata": {},
     "output_type": "execute_result"
    }
   ],
   "source": [
    "rawdata['body_text'][21]['text'].replace(\"\\n\",\" \")"
   ]
  },
  {
   "cell_type": "code",
   "execution_count": 12,
   "id": "8530e518",
   "metadata": {},
   "outputs": [
    {
     "data": {
      "text/plain": [
       "'Here {{formula:6954f32a-3594-4ea8-9ff1-589f760c1043}}  is an arbitrary differential operator with constant coefficients. '"
      ]
     },
     "execution_count": 12,
     "metadata": {},
     "output_type": "execute_result"
    }
   ],
   "source": [
    "rawdata['body_text'][22]['text'].replace(\"\\n\",\" \")"
   ]
  },
  {
   "cell_type": "code",
   "execution_count": 13,
   "id": "be75324d",
   "metadata": {},
   "outputs": [
    {
     "data": {
      "text/plain": [
       "'Given the initial condition (REF ), the Chapman-Enskog equations (REF ) and (REF ) are recurrently solvable. Finally, by terminating the computation at the order {{formula:53f45b97-fc98-40c9-88e9-fe44f2721f45}} , we obtain the {{formula:29b1cd28-ff8c-481b-86cd-22741999cba8}} th order approximations to the expansions (REF ), {{formula:3094e51a-a1bb-4c17-94bb-c1f1e1397121}}  and {{formula:bdabd4e1-3471-479b-9a45-c8e00c25fbf6}} : {{formula:54787814-bb94-41a6-9020-2c0937ea1551}}  '"
      ]
     },
     "execution_count": 13,
     "metadata": {},
     "output_type": "execute_result"
    }
   ],
   "source": [
    "rawdata['body_text'][23]['text'].replace(\"\\n\",\" \")"
   ]
  }
 ],
 "metadata": {
  "kernelspec": {
   "display_name": "uniem",
   "language": "python",
   "name": "uniem"
  },
  "language_info": {
   "codemirror_mode": {
    "name": "ipython",
    "version": 3
   },
   "file_extension": ".py",
   "mimetype": "text/x-python",
   "name": "python",
   "nbconvert_exporter": "python",
   "pygments_lexer": "ipython3",
   "version": "3.10.0"
  }
 },
 "nbformat": 4,
 "nbformat_minor": 5
}

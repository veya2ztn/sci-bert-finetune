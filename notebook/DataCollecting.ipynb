{
 "cells": [
  {
   "cell_type": "code",
   "execution_count": 1,
   "id": "17728a06",
   "metadata": {},
   "outputs": [],
   "source": [
    "import pandas as pd\n",
    "import json"
   ]
  },
  {
   "cell_type": "code",
   "execution_count": 2,
   "id": "fa185866",
   "metadata": {},
   "outputs": [],
   "source": [
    "data = pd.read_csv(\"data/unarXive_quantum_physics/unarXive_quantum_physics.clear.sections.id.csv\")"
   ]
  },
  {
   "cell_type": "code",
   "execution_count": 13,
   "id": "f60db196",
   "metadata": {},
   "outputs": [],
   "source": [
    "import h5py"
   ]
  },
  {
   "cell_type": "code",
   "execution_count": 32,
   "id": "dd709ca8",
   "metadata": {},
   "outputs": [],
   "source": [
    "sectionsf = h5py.File('data/unarXive_quantum_physics/unarXive_quantum_physics.clear.sections.h5', 'r')\n",
    "abstractf = h5py.File('data/unarXive_quantum_physics/unarXive_quantum_physics.clear.abstract.h5', 'r')\n",
    "titlef = h5py.File('data/unarXive_quantum_physics/unarXive_quantum_physics.clear.title.h5', 'r')"
   ]
  },
  {
   "cell_type": "code",
   "execution_count": 47,
   "id": "4259ab51",
   "metadata": {
    "scrolled": true
   },
   "outputs": [],
   "source": [
    "contentdata = list(data.groupby('paper_id'))"
   ]
  },
  {
   "cell_type": "code",
   "execution_count": 48,
   "id": "5e14f837",
   "metadata": {},
   "outputs": [
    {
     "data": {
      "text/html": [
       "<div>\n",
       "<style scoped>\n",
       "    .dataframe tbody tr th:only-of-type {\n",
       "        vertical-align: middle;\n",
       "    }\n",
       "\n",
       "    .dataframe tbody tr th {\n",
       "        vertical-align: top;\n",
       "    }\n",
       "\n",
       "    .dataframe thead th {\n",
       "        text-align: right;\n",
       "    }\n",
       "</style>\n",
       "<table border=\"1\" class=\"dataframe\">\n",
       "  <thead>\n",
       "    <tr style=\"text-align: right;\">\n",
       "      <th></th>\n",
       "      <th>Unnamed: 0</th>\n",
       "      <th>paper_id</th>\n",
       "      <th>section_num</th>\n",
       "    </tr>\n",
       "  </thead>\n",
       "  <tbody>\n",
       "    <tr>\n",
       "      <th>1973263</th>\n",
       "      <td>1973263</td>\n",
       "      <td>ArXiv:0704.0117</td>\n",
       "      <td>0</td>\n",
       "    </tr>\n",
       "    <tr>\n",
       "      <th>1973264</th>\n",
       "      <td>1973264</td>\n",
       "      <td>ArXiv:0704.0117</td>\n",
       "      <td>1</td>\n",
       "    </tr>\n",
       "    <tr>\n",
       "      <th>1973265</th>\n",
       "      <td>1973265</td>\n",
       "      <td>ArXiv:0704.0117</td>\n",
       "      <td>2</td>\n",
       "    </tr>\n",
       "    <tr>\n",
       "      <th>1973266</th>\n",
       "      <td>1973266</td>\n",
       "      <td>ArXiv:0704.0117</td>\n",
       "      <td>3</td>\n",
       "    </tr>\n",
       "    <tr>\n",
       "      <th>1973267</th>\n",
       "      <td>1973267</td>\n",
       "      <td>ArXiv:0704.0117</td>\n",
       "      <td>4</td>\n",
       "    </tr>\n",
       "    <tr>\n",
       "      <th>1973268</th>\n",
       "      <td>1973268</td>\n",
       "      <td>ArXiv:0704.0117</td>\n",
       "      <td>5</td>\n",
       "    </tr>\n",
       "    <tr>\n",
       "      <th>1973269</th>\n",
       "      <td>1973269</td>\n",
       "      <td>ArXiv:0704.0117</td>\n",
       "      <td>6</td>\n",
       "    </tr>\n",
       "    <tr>\n",
       "      <th>1973270</th>\n",
       "      <td>1973270</td>\n",
       "      <td>ArXiv:0704.0117</td>\n",
       "      <td>7</td>\n",
       "    </tr>\n",
       "    <tr>\n",
       "      <th>1973271</th>\n",
       "      <td>1973271</td>\n",
       "      <td>ArXiv:0704.0117</td>\n",
       "      <td>8</td>\n",
       "    </tr>\n",
       "    <tr>\n",
       "      <th>1973272</th>\n",
       "      <td>1973272</td>\n",
       "      <td>ArXiv:0704.0117</td>\n",
       "      <td>9</td>\n",
       "    </tr>\n",
       "    <tr>\n",
       "      <th>1973273</th>\n",
       "      <td>1973273</td>\n",
       "      <td>ArXiv:0704.0117</td>\n",
       "      <td>10</td>\n",
       "    </tr>\n",
       "    <tr>\n",
       "      <th>1973274</th>\n",
       "      <td>1973274</td>\n",
       "      <td>ArXiv:0704.0117</td>\n",
       "      <td>11</td>\n",
       "    </tr>\n",
       "    <tr>\n",
       "      <th>1973275</th>\n",
       "      <td>1973275</td>\n",
       "      <td>ArXiv:0704.0117</td>\n",
       "      <td>12</td>\n",
       "    </tr>\n",
       "    <tr>\n",
       "      <th>1973276</th>\n",
       "      <td>1973276</td>\n",
       "      <td>ArXiv:0704.0117</td>\n",
       "      <td>13</td>\n",
       "    </tr>\n",
       "    <tr>\n",
       "      <th>1973277</th>\n",
       "      <td>1973277</td>\n",
       "      <td>ArXiv:0704.0117</td>\n",
       "      <td>14</td>\n",
       "    </tr>\n",
       "    <tr>\n",
       "      <th>1973278</th>\n",
       "      <td>1973278</td>\n",
       "      <td>ArXiv:0704.0117</td>\n",
       "      <td>15</td>\n",
       "    </tr>\n",
       "    <tr>\n",
       "      <th>1973279</th>\n",
       "      <td>1973279</td>\n",
       "      <td>ArXiv:0704.0117</td>\n",
       "      <td>16</td>\n",
       "    </tr>\n",
       "    <tr>\n",
       "      <th>1973280</th>\n",
       "      <td>1973280</td>\n",
       "      <td>ArXiv:0704.0117</td>\n",
       "      <td>17</td>\n",
       "    </tr>\n",
       "    <tr>\n",
       "      <th>1973281</th>\n",
       "      <td>1973281</td>\n",
       "      <td>ArXiv:0704.0117</td>\n",
       "      <td>18</td>\n",
       "    </tr>\n",
       "    <tr>\n",
       "      <th>1973282</th>\n",
       "      <td>1973282</td>\n",
       "      <td>ArXiv:0704.0117</td>\n",
       "      <td>19</td>\n",
       "    </tr>\n",
       "    <tr>\n",
       "      <th>1973283</th>\n",
       "      <td>1973283</td>\n",
       "      <td>ArXiv:0704.0117</td>\n",
       "      <td>20</td>\n",
       "    </tr>\n",
       "    <tr>\n",
       "      <th>1973284</th>\n",
       "      <td>1973284</td>\n",
       "      <td>ArXiv:0704.0117</td>\n",
       "      <td>21</td>\n",
       "    </tr>\n",
       "  </tbody>\n",
       "</table>\n",
       "</div>"
      ],
      "text/plain": [
       "         Unnamed: 0         paper_id  section_num\n",
       "1973263     1973263  ArXiv:0704.0117            0\n",
       "1973264     1973264  ArXiv:0704.0117            1\n",
       "1973265     1973265  ArXiv:0704.0117            2\n",
       "1973266     1973266  ArXiv:0704.0117            3\n",
       "1973267     1973267  ArXiv:0704.0117            4\n",
       "1973268     1973268  ArXiv:0704.0117            5\n",
       "1973269     1973269  ArXiv:0704.0117            6\n",
       "1973270     1973270  ArXiv:0704.0117            7\n",
       "1973271     1973271  ArXiv:0704.0117            8\n",
       "1973272     1973272  ArXiv:0704.0117            9\n",
       "1973273     1973273  ArXiv:0704.0117           10\n",
       "1973274     1973274  ArXiv:0704.0117           11\n",
       "1973275     1973275  ArXiv:0704.0117           12\n",
       "1973276     1973276  ArXiv:0704.0117           13\n",
       "1973277     1973277  ArXiv:0704.0117           14\n",
       "1973278     1973278  ArXiv:0704.0117           15\n",
       "1973279     1973279  ArXiv:0704.0117           16\n",
       "1973280     1973280  ArXiv:0704.0117           17\n",
       "1973281     1973281  ArXiv:0704.0117           18\n",
       "1973282     1973282  ArXiv:0704.0117           19\n",
       "1973283     1973283  ArXiv:0704.0117           20\n",
       "1973284     1973284  ArXiv:0704.0117           21"
      ]
     },
     "execution_count": 48,
     "metadata": {},
     "output_type": "execute_result"
    }
   ],
   "source": [
    "contentdata[0][1]"
   ]
  },
  {
   "cell_type": "code",
   "execution_count": 29,
   "id": "c5625cad",
   "metadata": {},
   "outputs": [],
   "source": [
    "import numpy as np"
   ]
  },
  {
   "cell_type": "code",
   "execution_count": 49,
   "id": "6ca7e9dd",
   "metadata": {
    "scrolled": false
   },
   "outputs": [
    {
     "name": "stdout",
     "output_type": "stream",
     "text": [
      "Here's a research paper titled as \"Lower ground state due to counter-rotating wave interaction in trapped  ion system\". Find its abstract below: \" We consider a single ion confined in a trap under radiation of two traveling waves of lasers. In the strong-excitation regime and without the restriction of Lamb-Dicke limit, the Hamiltonian of the system is similar to a driving Jaynes-Cummings model without rotating wave approximation (RWA). The approach we developed enables us to present a complete eigensolutions, which makes it available to compare with the solutions under the RWA. We find that, the ground state in our non-RWA solution is energically lower than the counterpart under the RWA. If we have the ion in the ground state, it is equivalent to a spin dependent force on the trapped ion. Discussion is made for the difference between the solutions with and without the RWA, and for the relevant experimental test, as well as for the possible application in quantum information processing. \".Based on the abstract, provide a brief summary.  Now, please proceed to review the main content of the paper: \n",
      " \"\"\"\n",
      "Ultracold ions trapped as a line are considered as a promising system for quantum information processing (See [DOI:10.1103/physrevlett.74.4091]). Since the first quantum gate performed in the ion trap (See [DOI:10.1103/physrevlett.75.4714]), there have been a series of experiments with trapped ions to achieve nonclassical states (See [ArXiv:quant-ph/9806012]), simple quantum algorithm (See [Ref.3 of ArXiv:0704.0117]), and quantum communication (See [Ref.4 of ArXiv:0704.0117]). \n",
      "There have been also a number of proposals to employ trapped ions for quantum computing, most of which work only in the weak excitation regime (WER), i.e., the Rabi frequency smaller than the trap frequency. While as bigger Rabi frequency would lead to faster quantum gating, some proposals (See [ArXiv:quant-ph/9509007, DOI:10.1103/physreva.62.033807, Ref.7 of ArXiv:0704.0117]) have aimed to achieve operations in the case of the Rabi frequency larger than the trap frequency, i.e., the so called strong excitation regime (SER). The difference of the WER from the SER is mathematically reflected in the employment of the rotating wave approximation (RWA), which averages out the fast oscillating terms in the interaction Hamiltonian. As the RWA is less valid with the larger Rabi frequency, the treatment for the SER was complicated, imcomplete (See [Ref.8 of ArXiv:0704.0117]), and sometimes resorted to numerics (See [DOI:10.1103/physreva.59.4589]). \n",
      "In addition, the Lamb-Dicke limit strongly restricts the application of the trapped ions due to technical challenge and the slow quantum gating. We have noticed some ideas (See [ArXiv:quant-ph/0306006, ArXiv:quant-ph/0401185]) to remove the Lamb-Dicke limit in designing quantum gates, which are achieved by using some complicated laser pulse sequences. \n",
      "In the present work, we investigate, from another research angle, the system mentioned above in SER and in the absence of the Lamb-Dicke limit. The main idea, based on an analytical approach we have developed, is to check the eigenvectors and the eigenenergies of such a system, with which we hope to obtain new insight into the system for more application. The main result in our work is a newly found ground state, energically lower than the ground state calculated by standard Jaynes-Cummings model. We will also present the analytical forms of the eigenvectors and the variance of the eigenenergies with respect to the parameters of the system, which might be used in understanding the time evolution of the system. \n",
      "The paper is organized as follows. In Section II we will solve the system in the absence of the RWA. Then some numerical results will be presented in comparison with the RWA solutions in Section III. We will discuss about the new results for their possible application. More extensive discussion and the conclusion are made in Section IV. Some analytical deduction details could be found in Appendix. \n",
      "As shown in Fig. 1, we consider a Raman $\\Lambda $ -type configuration, which corresponds to the actual process in NIST experiments. Like in [Ref.12 of ArXiv:0704.0117], we will employ some unitary transformations to get rid of the assumption of Lamb-Dicke limit and the WER. So our solution is more general than most of the previous work (See [Ref.13 of ArXiv:0704.0117]). For a single trapped ion experiencing two off-resonant counter-propagating traveling wave lasers with frequencies $\\omega _{1}$ and $\\omega _{2}$ , respectively, and in the case of a large detuning $\\delta $ , we have an effective two-level system with the lasers driving the electric-dipole forbidden transition $|g\\rangle $ $\\leftrightarrow $ $|e\\rangle $ by the effective laser frequency $\\omega _{L}=\\omega _{1}-\\omega _{2}$ . So we have the dimensionless Hamiltonian $H= \\frac{\\Delta }{2} \\sigma _{z} + a^{\\dagger }a + \\frac{\\Omega }{2} (\\sigma _{+}e^{i\\eta \\hat{x}} + \\sigma _{-}e^{-i\\eta \\hat{x}}),$ in the frame rotating with $\\omega _{L}$ , where $\\Delta =(\\omega _{0}-\\omega _{L})/\\nu $ , $\\omega _{0}$ and $\\nu $ are the resonant frequency of the two levels of the ion and the trap frequency, respectively. $\\Omega $ is the dimensionless Rabi frequency in units of $\\nu $ and $\\eta $ the Lamb-Dicke parameter. $\\sigma _{\\pm ,z}$ are usual Pauli operators, and we have $\\hat{x}=a^{\\dagger }+a$ for the dimensionless position operator of the ion with $a^{\\dagger }$ and $a$ being operators of creation and annihilation of the phonon field, respectively. We suppose that both $\\Omega $ and $\\nu $ are much larger than the atomic decay rate and the phonon dissipative rate so that no dissipation is considered below.\n",
      "Like in [Ref.12 of ArXiv:0704.0117], we first carry out some unitary transformations on Eq. (1) to avoid the expansion of the exponentials. So we have $H^{I} = UHU^{\\dagger } = \\frac{\\Omega }{2} \\sigma _{z} + a^{\\dagger }a + g (a^{\\dagger } + a) \\sigma _{x} + \\epsilon \\sigma _{x} + g^{2},$ where $U=\\frac{1}{\\sqrt{2}}e^{i\\pi a^{\\dagger }a/2} {F^{\\dagger }(\\eta ) & F(\\eta ) \\cr -F^{\\dagger }(\\eta ) & F(\\eta )},$ with $F(\\eta )=\\exp {[i\\eta (a^{\\dagger } + a)/2]}$ , $g=\\eta /2$ , and $\\epsilon =-\\Delta /2$ . Eq. (2) is a typical driving Jaynes-Cummings model including the counter-rotating wave terms. In contrast to the usual treatments to consider the Lamb-Dicke limit by using the RWA in a frame rotation, we remain the counter-rotating wave interaction in the third term of the right-hand side of Eq. (2) in our case. To go on our treatment, we make a further rotation with $V=\\exp {(i\\pi \\sigma _{y}/4)}$ , yielding $H^{^{\\prime }} = VH^{I}V^{\\dagger } = -\\frac{\\Omega }{2} \\sigma _{x} + a^{\\dagger }a + g (a^{\\dagger } + a) \\sigma _{z} + \\epsilon \\sigma _{z} + g^{2},$ where we have used $\\exp {(i\\theta \\sigma _{y})}\\sigma _{x}\\exp {(-i\\theta \\sigma _{y})}=\\cos (2\\theta )\\sigma _{x} + \\sin (2\\theta )\\sigma _{z}$ , and $\\exp {(i\\theta \\sigma _{y})}\\sigma _{z}\\exp {(-i\\theta \\sigma _{y})}=\\cos (2\\theta )\\sigma _{z} - \\sin (2\\theta )\\sigma _{x}$ . For convenience of our following treatment, we rewrite Eq. (3) to be $H^{^{\\prime }} = \\epsilon (|e\\rangle \\langle e| - |g\\rangle \\langle g|) - \\frac{\\Omega }{2} (|e\\rangle \\langle g| + |g\\rangle \\langle e|) +a^{\\dagger }a + g (a^{\\dagger } + a) (|e\\rangle \\langle e| - |g\\rangle \\langle g|) + g^{2}.$\n",
      "Using Schrödinger equation, and the orthogonality between $|e\\rangle $ and $|g\\rangle $ , we suppose $|\\rangle = |\\varphi _{1}\\rangle |e\\rangle + |\\varphi _{2}\\rangle |g\\rangle ,$ which yields $\\epsilon |\\varphi _{1}\\rangle + a^{\\dagger }a |\\varphi _{1}\\rangle + g(a^{\\dagger } + a) |\\varphi _{1}\\rangle -\\frac{\\Omega }{2}|\\varphi _{2}\\rangle + g^{2}|\\varphi _{1}\\rangle = E |\\varphi _{1}\\rangle ,$ $-\\epsilon |\\varphi _{2}\\rangle + a^{\\dagger }a |\\varphi _{2}\\rangle - g(a^{\\dagger } + a) |\\varphi _{2}\\rangle -\\frac{\\Omega }{2}|\\varphi _{1}\\rangle + g^{2}|\\varphi _{2}\\rangle = E |\\varphi _{2}\\rangle .$ To make the above equations concise, we apply the displacement operator $\\hat{D}(g)=\\exp {[g(a^{\\dagger }-a)]}$ on $a^{\\dagger }$ and $a$ , which gives $A=\\hat{D}(g)^{\\dagger } a \\hat{D}(g)= a+g$ , $A^{\\dagger }= \\hat{D}(g)^{\\dagger } a^{\\dagger } \\hat{D}(g) = a^{\\dagger } + g$ , $B= \\hat{D}(-g)^{\\dagger } a \\hat{D}(-g) = a-g$ , and $B^{\\dagger }= \\hat{D}(-g)^{\\dagger } a^{\\dagger } \\hat{D}(-g) = a^{\\dagger } - g$ . So we have $(A^{\\dagger }A + \\epsilon ) |\\varphi _{1}\\rangle - \\frac{\\Omega }{2} |\\varphi _{2}\\rangle = E |\\varphi _{1}\\rangle ,$ $(B^{\\dagger }B - \\epsilon ) |\\varphi _{2}\\rangle - \\frac{\\Omega }{2} |\\varphi _{1}\\rangle = E |\\varphi _{2}\\rangle .$ \n",
      "Obvious, the new operators work in different subspaces, which leads to different evolutions regarding different internal levels $|g\\rangle $ and $|e\\rangle $ . We will later refer to this feature to be relevant to spin-dependent force. The solution of the two equations above can be simply set as $|\\varphi _{1}\\rangle = \\sum _{n=0}^{N} c_{n} |n\\rangle _{A},$ $|\\varphi _{2}\\rangle = \\sum _{n=0}^{N} d_{n} |n\\rangle _{B},$ with N a large integer to be determined later, $|n\\rangle _{A}=\\frac{1}{\\sqrt{n!}}(a^{\\dagger }+g)^{n} |0\\rangle _{A} = \\frac{1}{\\sqrt{n!}}(a^{\\dagger }+g)^{n} \\hat{D}(g)^{\\dagger }|0\\rangle =\\frac{1}{\\sqrt{n!}}(a^{\\dagger }+g)^{n}\\exp \\lbrace -ga^{\\dagger }-g^{2}/2\\rbrace |0\\rangle ,$ and $|n\\rangle _{B}=\\frac{1}{\\sqrt{n!}}(a^{\\dagger }-g)^{n} |0\\rangle _{B} = \\frac{1}{\\sqrt{n!}}(a^{\\dagger }-g)^{n} \\hat{D}(-g)^{\\dagger }|0\\rangle =\\frac{1}{\\sqrt{n!}}(a^{\\dagger }-g)^{n}\\exp \\lbrace ga^{\\dagger }-g^{2}/2\\rbrace |0\\rangle $ . Taking Eqs. (10) and (11) into Eqs. (8) and (9), respectively, and multiplying by $_{A}\\langle m|$ and $_{B}\\langle m|$ , respectively, we have, $(m+\\epsilon ) c_{m} - \\frac{\\Omega }{2} \\sum _{n=0}^{N} (-1)^{n} D_{mn} d_{n} = Ec_{m},$ $(m-\\epsilon ) d_{m} - \\frac{\\Omega }{2} \\sum _{n=0}^{N} (-1)^{m} D_{mn} c_{n} = Ed_{m},$ where we have set $(-1)^{n}D_{mn}= _{A}\\langle m|n\\rangle _{B}$ and $(-1)^{m}D_{mn} = _{B}\\langle m|n\\rangle _{A}$ , whose deduction can be found in Appendix. Diagonizing the relevant determinants, we may have the eigenenergies $E_{i}$ and the eigenvectors regarding $c_{n}^{i}$ and $d_{n}^{i}$ ($n=0, \\cdots , N, i= 0, \\cdots , N$ ). Therefore, as long as we could find a closed subspace with $c_{N+1}^{i}$ and $d_{N+1}^{i}$ approaching zero for a certain big integer N, we may have a complete eigensolution of the system.\n",
      "Before doing numerics, we first consider a treatment by involving the RWA. As the RWA solution could present complete eigenenergy spectra, it is interesting to make a comparison between the RWA solution and our non-RWA one. We consider a rotation in Eq. (2) with respect to $\\exp \\lbrace -i[(\\Omega /2)\\sigma _{z} + a^{\\dagger }a]t\\rbrace $ , which results in $H_{A}=\\frac{\\Omega }{2}\\sigma _{z} + a^{\\dagger }a + g (a\\sigma _{+} + a^{\\dagger }\\sigma _{-}) + g^{2},$ where the RWA has been made by setting $\\Omega =1$ , and we have corresponding eigenenergies $E^{\\pm }_{n}=(n+g^{2}+1/2)\\pm g\\sqrt{n+1}.$ So the system is degenerate in the case of $\\eta =0$ and there are two eigenenergy spectra corresponding to $E^{\\pm }_{n}$ as long as $\\eta \\ne 0$ . \n",
      "Figs. 2(a) and 2(b) demonstrate two spectra, respectively, and in each figure we compare the differences between the RWA and non-RWA solutions (See [Ref.14 of ArXiv:0704.0117]). In contrast to the two spectra in the RWA solution, the non-RWA solution includes only one spectrum. Comparing the two eigensolutions, we find that the even-number and odd-number excited levels in the non-RWA case correspond to $E^{+}_{n}$ and $E^{-}_{n}$ of the RWA case, respectively, and the difference becomes bigger and bigger with the increase of $\\eta $ . It is physically understandable for these differences because the RWA solution, valid only for small $\\eta $ , does not work beyond the Lamb-Dicke regime. Above comparison also demonstrates the change of the ion trap system from an integrable case (i.e., with RWA validity) to the non-integrable case (i.e., without RWA validity). But besides these differences, we find an unusual result in this comparison, i.e., a new level without the counterpart in RWA solution appearing in our solution, which is lower than the ground state in RWA solution by $\\nu + x\\eta $ with $x$ a $\\eta $ -dependent coefficient. In the viewpoint of physics, due to additional counter-rotating wave interaction involved, it is reasonable to have something more in our solution than the RWA case, although this does not surely lead to a new level lower than the previous ground state. Anyway, this is a good news for quantum information processing with trapped ions. As the situation in SER and beyond the Lamb-Dicke limit involves more instability, a stable confinement of the ion requires a stronger trapping condition. In this sense, our solution, with the possibility to have the ion stay in an energically lower state, gives a hope in this respect. We will come to this point again later. \n",
      "Since no report of the new ground state had been found either theoretically or experimentally in previous publications, we suggest to check it experimentally by resonant absorption spectrum. As shown above, in the case of non-zero Lamb-Dicke parameter, the degeneracy of the neighboring level spacing is released, and the bigger the $\\eta $ , the larger the spacing difference between the neighboring levels. Therefore, an experimental test of the newly found ground state should be available by resonant transition between the ground and the first excited states in Fig. 2, once the SER is reached. We have noticed that the SER could be achieved by first cooling the ions within the Lamb-Dicke limit and under the WER, and then by decreasing the trap frequency by opening the trap adiabatically (See [ArXiv:quant-ph/9509007]). \n",
      "Since it is lower in energy than the previously recognized ground states, the new ground state we found is more stable, and thereby more suitable to store quantum information. Once the trapped ion is cooled down to the ground state in the SER, it is, as shown in Eq. (5) with $n=0$ , actually equivalent to the effect of a spin-dependent force on the trapped ion (See [ArXiv:quant-ph/0411068]). If we make Hadamard gate on the ion by $|g\\rangle \\rightarrow (|g\\rangle + |e\\rangle )/\\sqrt{2}$ and $|e\\rangle \\rightarrow (|g\\rangle - |e\\rangle )/\\sqrt{2}$ , we reach a Schrödinger cat state, i.e., $(1/2)\\lbrace [ D^{\\dagger }(g)|0\\rangle + D^{\\dagger }(-g)|0\\rangle ]|g\\rangle - [D^{\\dagger }(g)|0\\rangle - D^{\\dagger }(-g)|0\\rangle ]|e\\rangle \\rbrace $ . Two ions confined in a trap in above situation will yield two-qubit gates without really exciting the vibrational mode (See [ArXiv:quant-ph/0306006]). It is also the way with this spin-dependent force towards scalable quantum information processing (See [ArXiv:quant-ph/0401185]). As in SER, we may have larger Rabi frequency than in WER, the quantum gate could be in principle carried out faster in the SER. \n",
      "In addition, as it is convergent throughout the parameter subspace, our complete eigensolution enables us to accurately write down the state of the system at an arbitrary evolution time, provided that we have known the initial state. This would be useful for future experiments in preparing non-classical states and in designing any desired quantum gates with trapped ions in the SER and beyond the Lamb-Dicke limit. Moreover, as shown in Figs 3(a), 3(b) and 3(c), our present solution is helpful for us to understand the particular solutions in previous publication (See [Ref.12 of ArXiv:0704.0117]). The comparison in the figures shows that the results in [Ref.12 of ArXiv:0704.0117] are actually mixtures of different eigensolutions. For example, the lowest level in Fig. 2 in [Ref.12 of ArXiv:0704.0117], corresponding to $\\Omega = 2$ and $\\eta = 0.2$ , is actually constituted at least by the third, the fourth, and the fifth excited states of the eigensolution. \n",
      "The observation of the counter-rotating effects is an interesting topic discussed previously. [DOI:10.1103/physreva.43.2430], a standard method is used to study the observable effects regarding the rotating and the counter-rotating terms in the Jaynes-Cummings model, including to observe Bloch-Siegert shift (See [Ref.17 of ArXiv:0704.0117]) and quantum chaos in a cavity QED by using differently polarized lights. A recent work (See [Ref.18 of ArXiv:0704.0117]) for a two-photon Jaynes-Cummings model has also investigated the observability of the counter-rotating terms. By using perturbation theory, the authors claimed that the counter-rotating effects, although very small, can be in principle observed by measuring the energy of the atom going through the cavity. Actually, for the cavity QED system without any external source involved, it is generally thought that the counter-rotating terms only make contribution in some virtual fluctuations of the energy in the weak coupling regime. While the interference between the rotating and counter-rotating contributions could result in some phase dependent effects (See [Ref.19 of ArXiv:0704.0117]). Anyway, if there is an external source, for example, the laser radiating a trapped ultracold ion, the counter-rotating terms will show their effects, e.g., related to heating in the case of WER (See [Ref.20 of ArXiv:0704.0117]). In this sense, our result is somewhat amazing because the counter-rotating interaction in the SER, making entanglement between internal and vibrational states of the trapped ion, plays positive role in the ion trapping. \n",
      "We argue that our approach is applicable to different physical processes involving counter-rotating interaction. Since the counter-rotating terms result in energy nonconservation in single quanta processes, usual techniques cannot solve the Hamiltonian with eigenstates spanning in an open form. In this case, path-integral approach (See [DOI:10.1103/physreva.37.1628]) and perturbation approach (See [Ref.19 of ArXiv:0704.0117]), assisted by numerical techniques were employed in the weak coupling regime of the Jaynes-Cummings model. In contrast, our method, based on the diagonalization of the coherent-state subspace, could in principle study the Jaynes-Cummings model without the RWA in any cases. We have also noticed a recent publication (See [DOI:10.1103/physrevb.72.195410]) to treat a strongly coupled two-level system to a quntum oscillator under an adiabatic approximation, in which something is similar to our work in the solution of the Hamiltonian in the absence of the RWA. But due to the different features in their system from our atomic case, the two-level splitting term, much smaller compared to other terms, can be taken as a perturbation. So the advantage of that treatment is the possibility to analytically obtain good approximate solutions. In contrast, not any approximation is used in our solution, which should be more efficient to do the relevant job. \n",
      "In summary, we have investigated the eigensolution of the system with a single trapped ion, experiencing two traveling waves of lasers, in the SER and in the absence of the Lamb-Dicke limit. We have found the ground state in the non-RWA case to be energically lower than the counterpart of the solution with RWA, which would be useful for quantum information storage and for quantum computing. The analytical forms of the eigenfunction and the complete set of the eigensolutions would be helpful for us to understand a trapped ion in the SER and with a large Lamb-Dicke parameter. We argue that our work would be applied to different systems in dealing with strong coupling problems. \n",
      "This work is supported in part by NNSFC No. 10474118, by Hubei Provincial Funding for Distinguished Young Scholars, and by Sichuan Provincial Funding. \n",
      "We give the deduction of $_{A}\\langle m|n\\rangle _{B}$ and $_{B}\\langle m|n\\rangle _{A}$ below, $_{A}\\langle m | n \\rangle _{B} = \\frac{1}{\\sqrt{m!n!}} \\langle 0|e^{-ga-g^{2}/2}(a+g)^{m}(a^{\\dagger }-g)^{n}e^{ga^{\\dagger }-g^{2}/2}|0\\rangle $ $ = \\frac{1}{\\sqrt{m!n!}} e^{-2g^{2}}\\langle 0|(a+g)^{m}e^{ga^{\\dagger }}e^{-ga}(a^{\\dagger }-g)^{n} |0 \\rangle $ $ = \\frac{1}{\\sqrt{m!n!}} e^{-2g^{2}}\\langle 0|(a+2g)^{m}(a^{\\dagger }-2g)^{n}|0 \\rangle = (-1)^{n} D_{mn},$ with $D_{mn}=e^{-2g^{2}}\\sum _{i=0}^{min[m,n]} (-1)^{-i}\\frac{\\sqrt{m!n!}(2g)^{m+n-2i}}{(m-i)!(n-i)!i!}.$ It is easily proven following a similar step to above that $_{B}\\langle m | n \\rangle _{A} = \\frac{1}{\\sqrt{m!n!}} \\langle 0|e^{ga-g^{2}/2}(a-g)^{m}(a^{\\dagger }+g)^{n}e^{-ga^{\\dagger }-g^{2}/2}|0\\rangle , $ would finally get to $(-1)^{m}D_{mn}.$ The captions of the figures \n",
      "Fig. 1 Schematic of a single trapped ion under radiation of two traveling wave lasers, where $\\omega _{1}$ and $\\omega _{2}$ are frequencies regarding the two lasers, respectively, $\\omega _{0}$ is the resonant frequency between $|g\\rangle $ and $|e\\rangle $ , and $\\delta $ and $\\Delta $ are relevant detunings. This is a typical Raman process employed in NIST experiments, with for example $Be^{+}$ , for quantum computing. \n",
      "Fig. 2 The eigenenergy spectra with $\\Omega =1$ , where (a) and (b) correspond to two different sets of eigenenergies with respect to Lamb-Dicke parameter. In (a) the comparison is made between $E^{+}_{n}$ in the RWA case (dashed-dotted curves) and $E_{n}$ with $n=$ even numbers in the non-RWA case (star curves for $n=0$ and solid curves for others); In (b) the comparison is for $E^{-}_{n}$ in the RWA case (dashed-dotted curves) to $E_{n}$ with $n=$ odd numbers in the non-RWA case (solid curves). \n",
      "Fig. 3 The eigenenergy with respect to the detuning $\\Delta $ , where for convenience of comparison we have used the same parameter numbers as in [Ref.12 of ArXiv:0704.0117]. For clarity, we plot the different levels with different lines. The parameter numbers are $\\Omega =2$ , and (a) $\\eta =0.2$ ; (b) $\\eta =0.4$ ; (c) $\\eta =0.6$ . \"\n",
      "\"\"\"\n",
      " Create a comprehensive outline for this paper, detailing its logical structure. Take a step-by-step approach to this task.\n"
     ]
    },
    {
     "ename": "RuntimeError",
     "evalue": "No active exception to reraise",
     "output_type": "error",
     "traceback": [
      "\u001b[0;31m---------------------------------------------------------------------------\u001b[0m",
      "\u001b[0;31mRuntimeError\u001b[0m                              Traceback (most recent call last)",
      "Cell \u001b[0;32mIn[49], line 9\u001b[0m\n\u001b[1;32m      7\u001b[0m prompt  \u001b[38;5;241m=\u001b[39m \u001b[38;5;124mf\u001b[39m\u001b[38;5;124m\"\"\"\u001b[39m\u001b[38;5;124mHere\u001b[39m\u001b[38;5;124m'\u001b[39m\u001b[38;5;124ms a research paper titled as \u001b[39m\u001b[38;5;124m\"\u001b[39m\u001b[38;5;132;01m{\u001b[39;00mtitle\u001b[38;5;132;01m}\u001b[39;00m\u001b[38;5;124m\"\u001b[39m\u001b[38;5;124m. Find its abstract below: \u001b[39m\u001b[38;5;124m\"\u001b[39m\u001b[38;5;132;01m{\u001b[39;00mabstract\u001b[38;5;132;01m}\u001b[39;00m\u001b[38;5;124m\"\u001b[39m\u001b[38;5;124m.Based on the abstract, provide a brief summary.  Now, please proceed to review the main content of the paper: \u001b[39m\u001b[38;5;130;01m\\n\u001b[39;00m\u001b[38;5;124m \u001b[39m\u001b[38;5;130;01m\\\"\u001b[39;00m\u001b[38;5;130;01m\\\"\u001b[39;00m\u001b[38;5;130;01m\\\"\u001b[39;00m\u001b[38;5;130;01m\\n\u001b[39;00m\u001b[38;5;132;01m{\u001b[39;00mcontent\u001b[38;5;132;01m}\u001b[39;00m\u001b[38;5;124m\"\u001b[39m\u001b[38;5;130;01m\\n\u001b[39;00m\u001b[38;5;130;01m\\\"\u001b[39;00m\u001b[38;5;130;01m\\\"\u001b[39;00m\u001b[38;5;130;01m\\\"\u001b[39;00m\u001b[38;5;130;01m\\n\u001b[39;00m\u001b[38;5;124m Create a comprehensive outline for this paper, detailing its logical structure. Take a step-by-step approach to this task.\u001b[39m\u001b[38;5;124m\"\"\"\u001b[39m\n\u001b[1;32m      8\u001b[0m \u001b[38;5;28mprint\u001b[39m(prompt)\n\u001b[0;32m----> 9\u001b[0m \u001b[38;5;28;01mraise\u001b[39;00m\n",
      "\u001b[0;31mRuntimeError\u001b[0m: No active exception to reraise"
     ]
    }
   ],
   "source": [
    "for paper_id,group in contentdata:\n",
    "    section_ids = np.sort(group['section_num'].values)\n",
    "    abstract= abstractf.get(f'abstract/{paper_id}')[()].decode('utf-8').replace('\\n', \" \").replace('  ',\" \")\n",
    "    title   = titlef.get(f'abstract/{paper_id}')[()].decode('utf-8').replace('\\n',\" \").replace('  ',\" \")\n",
    "    content = [sectionsf.get(f'{paper_id}/{sentence_id}')[()].decode('utf-8').replace('\\n', \" \").replace('  ',\" \") for sentence_id in section_ids]\n",
    "    content = \"\\n\".join(content)\n",
    "    prompt  = f\"\"\"Here's a research paper titled as \"{title}\". Find its abstract below: \"{abstract}\".Based on the abstract, provide a brief summary.  Now, please proceed to review the main content of the paper: \\n \\\"\\\"\\\"\\n{content}\"\\n\\\"\\\"\\\"\\n Create a comprehensive outline for this paper, detailing its logical structure. Take a step-by-step approach to this task.\"\"\"\n",
    "    print(prompt)\n",
    "    raise\n",
    "    "
   ]
  },
  {
   "cell_type": "code",
   "execution_count": 4,
   "id": "8c7a2fc8",
   "metadata": {},
   "outputs": [],
   "source": [
    "rawdata1 = pd.read_csv(\"data/unarXive.clear/query.question.results.good_questions1.csv\")\n",
    "rawdata2 = pd.read_csv(\"data/unarXive.clear/query.question.results.good_questions2.csv\")"
   ]
  },
  {
   "cell_type": "code",
   "execution_count": 1,
   "id": "c6eb3f90",
   "metadata": {},
   "outputs": [],
   "source": [
    "import torch"
   ]
  },
  {
   "cell_type": "code",
   "execution_count": 2,
   "id": "fd52e5e4",
   "metadata": {},
   "outputs": [],
   "source": [
    "a  = torch.randn(3,4)"
   ]
  },
  {
   "cell_type": "code",
   "execution_count": 7,
   "id": "ec43ea80",
   "metadata": {},
   "outputs": [
    {
     "data": {
      "text/plain": [
       "tensor([[ 0.4421,  2.2169, -0.2105,  0.9864],\n",
       "        [ 0.4663,  0.5096,  0.0183, -0.9619],\n",
       "        [ 0.1805, -1.3784, -0.9540,  0.1293],\n",
       "        [ 0.0000,  0.0000,  0.0000,  0.0000],\n",
       "        [ 0.0000,  0.0000,  0.0000,  0.0000]])"
      ]
     },
     "execution_count": 7,
     "metadata": {},
     "output_type": "execute_result"
    }
   ],
   "source": [
    "torch.nn.functional.pad(a,(0,0,0,2))"
   ]
  },
  {
   "cell_type": "code",
   "execution_count": 72,
   "id": "c2c2e6b7",
   "metadata": {},
   "outputs": [
    {
     "data": {
      "image/png": "[encoded data removed]",
      "text/plain": [
       "<Figure size 640x480 with 1 Axes>"
      ]
     },
     "metadata": {},
     "output_type": "display_data"
    }
   ],
   "source": [
    "length = np.load(\"data/unarXive.clear/query.question.results/query.question.results.good.length.npy\")\n",
    "a=plt.hist(length,bins=1000)"
   ]
  },
  {
   "cell_type": "code",
   "execution_count": 4,
   "id": "d28c435e",
   "metadata": {},
   "outputs": [
    {
     "name": "stdout",
     "output_type": "stream",
     "text": [
      "loading csv files...........\n",
      "done~!\n"
     ]
    }
   ],
   "source": [
    "# print(\"loading csv files...........\")\n",
    "# sentense_ids = pd.read_csv(\"data/unarXive.clear/unarXive.clear.sections.good.id.csv\")\n",
    "# print(\"done~!\")\n"
   ]
  },
  {
   "cell_type": "code",
   "execution_count": 40,
   "id": "bbc53a77",
   "metadata": {},
   "outputs": [],
   "source": [
    "import numpy as np"
   ]
  },
  {
   "cell_type": "code",
   "execution_count": null,
   "id": "aae21618",
   "metadata": {},
   "outputs": [],
   "source": [
    "np.save()"
   ]
  },
  {
   "cell_type": "code",
   "execution_count": 28,
   "id": "3ee0cff5",
   "metadata": {},
   "outputs": [],
   "source": [
    "import h5py\n",
    "sectionsf = h5py.File('data/unarXive.clear/unarXive.clear.sections.h5', 'r')"
   ]
  },
  {
   "cell_type": "code",
   "execution_count": 35,
   "id": "01c11690",
   "metadata": {},
   "outputs": [],
   "source": [
    "encoding = tiktoken.get_encoding(\"cl100k_base\")"
   ]
  },
  {
   "cell_type": "code",
   "execution_count": 36,
   "id": "10b4580d",
   "metadata": {},
   "outputs": [],
   "source": [
    "def get_token_num(sentense):\n",
    "    return len(encoding.encode(sentense, disallowed_special=()))"
   ]
  },
  {
   "cell_type": "code",
   "execution_count": 38,
   "id": "ff2f8a5d",
   "metadata": {},
   "outputs": [],
   "source": [
    "from tqdm.notebook import tqdm"
   ]
  },
  {
   "cell_type": "code",
   "execution_count": 69,
   "id": "54d40b47",
   "metadata": {},
   "outputs": [
    {
     "data": {
      "text/plain": [
       "54"
      ]
     },
     "execution_count": 69,
     "metadata": {},
     "output_type": "execute_result"
    }
   ],
   "source": [
    "rawdata.iloc[_id].sentense_token"
   ]
  },
  {
   "cell_type": "code",
   "execution_count": 66,
   "id": "b9827cfa",
   "metadata": {},
   "outputs": [
    {
     "name": "stdout",
     "output_type": "stream",
     "text": [
      "54\n"
     ]
    }
   ],
   "source": [
    "_id= 5212100\n",
    "data  = rawdata1.iloc[_id]\n",
    "paper_id   = data['paper_id']\n",
    "sentence_id= data['sentense_id']\n",
    "sentense = sectionsf.get(f'{paper_id}/{sentence_id}')[()].decode('utf-8')\n",
    "print(get_token_num(sentense))"
   ]
  }
 ],
 "metadata": {
  "kernelspec": {
   "display_name": "Python 3 (ipykernel)",
   "language": "python",
   "name": "python3"
  },
  "language_info": {
   "codemirror_mode": {
    "name": "ipython",
    "version": 3
   },
   "file_extension": ".py",
   "mimetype": "text/x-python",
   "name": "python",
   "nbconvert_exporter": "python",
   "pygments_lexer": "ipython3",
   "version": "3.9.15"
  }
 },
 "nbformat": 4,
 "nbformat_minor": 5
}
